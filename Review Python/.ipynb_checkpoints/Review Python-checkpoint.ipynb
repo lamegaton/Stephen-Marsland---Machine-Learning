{
 "cells": [
  {
   "cell_type": "markdown",
   "id": "023d5964",
   "metadata": {},
   "source": [
    "# Review python for MLP\n",
    "\n",
    "1. generate random array with numpy"
   ]
  },
  {
   "cell_type": "code",
   "execution_count": 31,
   "id": "150a45fa",
   "metadata": {},
   "outputs": [
    {
     "name": "stdout",
     "output_type": "stream",
     "text": [
      "[[0 1 0]\n",
      " [0 0 1]\n",
      " [1 1 1]\n",
      " [0 0 1]\n",
      " [1 0 1]]\n"
     ]
    }
   ],
   "source": [
    "import numpy as np\n",
    "  \n",
    "# row x col\n",
    "array = np.random.randint(2, size=(5, 3))\n",
    "print(array)"
   ]
  },
  {
   "cell_type": "markdown",
   "id": "390df163",
   "metadata": {},
   "source": [
    "2. Return dimension with np.shape"
   ]
  },
  {
   "cell_type": "code",
   "execution_count": 41,
   "id": "03aa510c",
   "metadata": {},
   "outputs": [
    {
     "name": "stdout",
     "output_type": "stream",
     "text": [
      "col = 3\n",
      "row = 5\n"
     ]
    }
   ],
   "source": [
    "# return number of col\n",
    "col = np.shape(array)[1]\n",
    "print(\"col =\",col)\n",
    "# return number of row\n",
    "row = np.shape(array)[0]\n",
    "print(\"row =\",row)"
   ]
  },
  {
   "cell_type": "code",
   "execution_count": 33,
   "id": "fdbbb503",
   "metadata": {},
   "outputs": [
    {
     "name": "stdout",
     "output_type": "stream",
     "text": [
      "[[-0.18963892 -0.24235719  0.08534427 -0.01234214]\n",
      " [ 0.16360428 -0.19895755 -0.35652117 -0.37664609]\n",
      " [-0.06847471  0.1321993  -0.29128368  0.20487236]\n",
      " [-0.01689294  0.36573918  0.43576723  0.12724238]\n",
      " [-0.41806578  0.09893011 -0.11409838  0.38283243]]\n",
      "\n",
      "[[0.07728935 0.04053554 0.37971434 0.20330595]\n",
      " [0.20794911 0.82052954 0.70863682 0.23346793]\n",
      " [0.02997558 0.95355107 0.37822184 0.87382529]\n",
      " [0.038587   0.6886646  0.81468122 0.04745793]\n",
      " [0.26852839 0.35920405 0.67090777 0.5080579 ]]\n"
     ]
    }
   ],
   "source": [
    "random_gen = (np.random.rand(5,4)-0.5)*2/np.sqrt(5)\n",
    "print(random_gen)\n",
    "print()\n",
    "random_gen_o = np.random.rand(5,4)\n",
    "print(random_gen_o)"
   ]
  },
  {
   "cell_type": "code",
   "execution_count": 34,
   "id": "670093d1",
   "metadata": {},
   "outputs": [
    {
     "name": "stdout",
     "output_type": "stream",
     "text": [
      "axis=1 -> adding row\n",
      "[[1 2 5 6]\n",
      " [3 4 7 8]]\n",
      "\n",
      "axis=0 -> adding column\n",
      "[[1 2]\n",
      " [3 4]\n",
      " [5 6]\n",
      " [7 8]]\n"
     ]
    }
   ],
   "source": [
    "arr1 = np.array([[1, 2], [3, 4]])\n",
    "arr2 = np.array([[5, 6], [7, 8]])\n",
    "arr = np.concatenate((arr1, arr2), axis=1)\n",
    "print(\"axis=1 -> adding row\")\n",
    "print(arr)\n",
    "print()\n",
    "print(\"axis=0 -> adding column\")\n",
    "arr = np.concatenate((arr1, arr2), axis=0)\n",
    "print(arr)"
   ]
  },
  {
   "cell_type": "code",
   "execution_count": null,
   "id": "a863763d",
   "metadata": {},
   "outputs": [],
   "source": [
    "x = np.ones((1,40))*np.linspace(0,1,40)\n",
    "import matplotlib.pyplot as plt\n"
   ]
  }
 ],
 "metadata": {
  "kernelspec": {
   "display_name": "Python 3 (ipykernel)",
   "language": "python",
   "name": "python3"
  },
  "language_info": {
   "codemirror_mode": {
    "name": "ipython",
    "version": 3
   },
   "file_extension": ".py",
   "mimetype": "text/x-python",
   "name": "python",
   "nbconvert_exporter": "python",
   "pygments_lexer": "ipython3",
   "version": "3.11.3"
  }
 },
 "nbformat": 4,
 "nbformat_minor": 5
}
