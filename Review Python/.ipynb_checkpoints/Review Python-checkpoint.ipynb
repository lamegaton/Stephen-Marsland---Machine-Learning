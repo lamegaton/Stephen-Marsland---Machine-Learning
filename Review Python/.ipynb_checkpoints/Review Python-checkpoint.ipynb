{
 "cells": [
  {
   "cell_type": "markdown",
   "id": "023d5964",
   "metadata": {},
   "source": [
    "# Review python for MLP\n",
    "\n",
    "1. generate random array with numpy"
   ]
  },
  {
   "cell_type": "code",
   "execution_count": 2,
   "id": "150a45fa",
   "metadata": {},
   "outputs": [
    {
     "name": "stdout",
     "output_type": "stream",
     "text": [
      "[[1 0 1]\n",
      " [0 1 1]\n",
      " [0 1 0]\n",
      " [0 0 1]\n",
      " [1 0 1]]\n"
     ]
    }
   ],
   "source": [
    "import numpy as np\n",
    "  \n",
    "# row x col\n",
    "array = np.random.randint(2, size=(5, 3))\n",
    "print(array)"
   ]
  },
  {
   "cell_type": "markdown",
   "id": "390df163",
   "metadata": {},
   "source": [
    "2. Return dimension with np.shape"
   ]
  },
  {
   "cell_type": "code",
   "execution_count": 3,
   "id": "03aa510c",
   "metadata": {},
   "outputs": [
    {
     "name": "stdout",
     "output_type": "stream",
     "text": [
      "col = 3\n",
      "row = 5\n"
     ]
    }
   ],
   "source": [
    "# return number of col\n",
    "col = np.shape(array)[1]\n",
    "print(\"col =\",col)\n",
    "# return number of row\n",
    "row = np.shape(array)[0]\n",
    "print(\"row =\",row)"
   ]
  },
  {
   "cell_type": "code",
   "execution_count": 4,
   "id": "fdbbb503",
   "metadata": {},
   "outputs": [
    {
     "name": "stdout",
     "output_type": "stream",
     "text": [
      "[[ 0.29836892 -0.40237663 -0.10197321 -0.05034457]\n",
      " [-0.37325164  0.43382704 -0.13989945 -0.4222437 ]\n",
      " [-0.2903727   0.29288648  0.07638983 -0.13505921]\n",
      " [ 0.05361958 -0.17637442  0.18540308 -0.03406286]\n",
      " [ 0.34710306  0.19581412 -0.2860195  -0.18936285]]\n",
      "\n",
      "[[0.64336475 0.26798898 0.93019857 0.19152474]\n",
      " [0.06226923 0.67559592 0.97706375 0.9322075 ]\n",
      " [0.49151721 0.47346635 0.31299604 0.71541446]\n",
      " [0.59571257 0.18111878 0.3851916  0.03240151]\n",
      " [0.31468174 0.8803821  0.47332766 0.59285664]]\n"
     ]
    }
   ],
   "source": [
    "random_gen = (np.random.rand(5,4)-0.5)*2/np.sqrt(5)\n",
    "print(random_gen)\n",
    "print()\n",
    "random_gen_o = np.random.rand(5,4)\n",
    "print(random_gen_o)"
   ]
  },
  {
   "cell_type": "code",
   "execution_count": 5,
   "id": "670093d1",
   "metadata": {},
   "outputs": [
    {
     "name": "stdout",
     "output_type": "stream",
     "text": [
      "axis=1 -> adding row\n",
      "[[1 2 5 6]\n",
      " [3 4 7 8]]\n",
      "\n",
      "axis=0 -> adding column\n",
      "[[1 2]\n",
      " [3 4]\n",
      " [5 6]\n",
      " [7 8]]\n"
     ]
    }
   ],
   "source": [
    "arr1 = np.array([[1, 2], [3, 4]])\n",
    "arr2 = np.array([[5, 6], [7, 8]])\n",
    "arr = np.concatenate((arr1, arr2), axis=1)\n",
    "print(\"axis=1 -> adding row\")\n",
    "print(arr)\n",
    "print()\n",
    "print(\"axis=0 -> adding column\")\n",
    "arr = np.concatenate((arr1, arr2), axis=0)\n",
    "print(arr)"
   ]
  },
  {
   "cell_type": "code",
   "execution_count": 6,
   "id": "a863763d",
   "metadata": {},
   "outputs": [],
   "source": [
    "x = np.ones((1,40))*np.linspace(0,1,40)"
   ]
  },
  {
   "cell_type": "code",
   "execution_count": 7,
   "id": "87f8f93f",
   "metadata": {},
   "outputs": [
    {
     "data": {
      "text/plain": [
       "array([[0.        , 0.02564103, 0.05128205, 0.07692308, 0.1025641 ,\n",
       "        0.12820513, 0.15384615, 0.17948718, 0.20512821, 0.23076923,\n",
       "        0.25641026, 0.28205128, 0.30769231, 0.33333333, 0.35897436,\n",
       "        0.38461538, 0.41025641, 0.43589744, 0.46153846, 0.48717949,\n",
       "        0.51282051, 0.53846154, 0.56410256, 0.58974359, 0.61538462,\n",
       "        0.64102564, 0.66666667, 0.69230769, 0.71794872, 0.74358974,\n",
       "        0.76923077, 0.79487179, 0.82051282, 0.84615385, 0.87179487,\n",
       "        0.8974359 , 0.92307692, 0.94871795, 0.97435897, 1.        ]])"
      ]
     },
     "execution_count": 7,
     "metadata": {},
     "output_type": "execute_result"
    }
   ],
   "source": [
    "x"
   ]
  },
  {
   "cell_type": "code",
   "execution_count": 8,
   "id": "63e1751e",
   "metadata": {
    "scrolled": false
   },
   "outputs": [
    {
     "name": "stdout",
     "output_type": "stream",
     "text": [
      "0\n",
      "1\n",
      "2\n"
     ]
    }
   ],
   "source": [
    "for i in range(0,3):\n",
    "    print(i)\n"
   ]
  },
  {
   "cell_type": "markdown",
   "id": "e33fffe6",
   "metadata": {},
   "source": [
    "3. Know the unique value in the last column"
   ]
  },
  {
   "cell_type": "code",
   "execution_count": 10,
   "id": "a1381802",
   "metadata": {},
   "outputs": [
    {
     "name": "stdout",
     "output_type": "stream",
     "text": [
      "[0 1]\n"
     ]
    }
   ],
   "source": [
    "# Assuming 'data' is your NumPy array or list\n",
    "last_column = array[:, -1]  # Extract the last column\n",
    "\n",
    "unique_values = np.unique(last_column)\n",
    "print(unique_values)"
   ]
  },
  {
   "cell_type": "markdown",
   "id": "59d7abcf",
   "metadata": {},
   "source": [
    "So you may ask, why do we use -1?\n",
    "if we use 1 it will be the first column. the last column will be either 4 or -1."
   ]
  },
  {
   "cell_type": "code",
   "execution_count": null,
   "id": "0d3133c1",
   "metadata": {},
   "outputs": [],
   "source": [
    "np.shape(iris)\n",
    "(150, 5)"
   ]
  }
 ],
 "metadata": {
  "kernelspec": {
   "display_name": "Python 3 (ipykernel)",
   "language": "python",
   "name": "python3"
  },
  "language_info": {
   "codemirror_mode": {
    "name": "ipython",
    "version": 3
   },
   "file_extension": ".py",
   "mimetype": "text/x-python",
   "name": "python",
   "nbconvert_exporter": "python",
   "pygments_lexer": "ipython3",
   "version": "3.11.3"
  }
 },
 "nbformat": 4,
 "nbformat_minor": 5
}
